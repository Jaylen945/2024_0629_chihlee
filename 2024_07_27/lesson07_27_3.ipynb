{
 "cells": [
  {
   "cell_type": "code",
   "execution_count": 3,
   "metadata": {},
   "outputs": [
    {
     "data": {
      "text/plain": [
       "'/home/pi1/Documents/GitHub/2024_chihlee/2024_07_27/__main__'"
      ]
     },
     "execution_count": 3,
     "metadata": {},
     "output_type": "execute_result"
    }
   ],
   "source": [
    "import os.path\n",
    "\n",
    "current_path = os.path.abspath(__name__)\n",
    "current_path"
   ]
  },
  {
   "cell_type": "code",
   "execution_count": 1,
   "metadata": {},
   "outputs": [
    {
     "data": {
      "text/plain": [
       "'__main__'"
      ]
     },
     "execution_count": 1,
     "metadata": {},
     "output_type": "execute_result"
    }
   ],
   "source": [
    "__name__"
   ]
  },
  {
   "cell_type": "code",
   "execution_count": 8,
   "metadata": {},
   "outputs": [
    {
     "name": "stdout",
     "output_type": "stream",
     "text": [
      "/home/pi1/Documents/GitHub/2024_chihlee/2024_07_27/data\n",
      "檔案已經建立\n"
     ]
    }
   ],
   "source": [
    "import os.path\n",
    "import os\n",
    "\n",
    "current_path = os.path.abspath(__name__) #取得目前檔案路徑\n",
    "directory_name = os.path.dirname(current_path) #取得目前資料夾路徑\n",
    "data_path = os.path.join(directory_name, 'data') #目前資料夾路徑加上data目錄\n",
    "print(data_path)\n",
    "if not os.path.isdir(data_path):\n",
    "    print('沒有data的目錄,手動建立目錄')\n",
    "    os.mkdir(data_path)\n",
    "else:\n",
    "    print('檔案已經建立')"
   ]
  },
  {
   "cell_type": "code",
   "execution_count": 10,
   "metadata": {},
   "outputs": [
    {
     "name": "stdout",
     "output_type": "stream",
     "text": [
      "/home/pi1/Documents/GitHub/2024_chihlee/2024_07_27/data\n",
      "檔案已經建立\n"
     ]
    },
    {
     "data": {
      "text/plain": [
       "'/home/pi1/Documents/GitHub/2024_chihlee/2024_07_27/data/iot.log'"
      ]
     },
     "execution_count": 10,
     "metadata": {},
     "output_type": "execute_result"
    }
   ],
   "source": [
    "import os.path\n",
    "import os\n",
    "\n",
    "current_path = os.path.abspath(__name__) #取得目前檔案路徑\n",
    "directory_name = os.path.dirname(current_path) #取得目前資料夾路徑\n",
    "data_path = os.path.join(directory_name, 'data') #目前資料夾路徑加上data目錄\n",
    "print(data_path)\n",
    "if not os.path.isdir(data_path):\n",
    "    print('沒有data的目錄,手動建立目錄')\n",
    "    os.mkdir(data_path)\n",
    "else:\n",
    "    print('檔案已經建立')\n",
    "\n",
    "log_path = os.path.join(data_path, 'iot.log')\n",
    "log_path"
   ]
  },
  {
   "cell_type": "code",
   "execution_count": 11,
   "metadata": {},
   "outputs": [
    {
     "name": "stdout",
     "output_type": "stream",
     "text": [
      "/home/pi1/Documents/GitHub/2024_chihlee/2024_07_27/data\n",
      "檔案已經建立\n",
      "沒有log檔\n"
     ]
    }
   ],
   "source": [
    "import os.path\n",
    "import os\n",
    "\n",
    "current_path = os.path.abspath(__name__) #取得目前檔案路徑\n",
    "directory_name = os.path.dirname(current_path) #取得目前資料夾路徑\n",
    "data_path = os.path.join(directory_name, 'data') #目前資料夾路徑加上data目錄\n",
    "print(data_path)\n",
    "if not os.path.isdir(data_path):\n",
    "    print('沒有data的目錄,手動建立目錄')\n",
    "    os.mkdir(data_path)\n",
    "else:\n",
    "    print('檔案已經建立')\n",
    "\n",
    "log_path = os.path.join(data_path, 'iot.log')\n",
    "if not os.path.isfile(log_path):\n",
    "    print('沒有log檔')\n",
    "else:\n",
    "    print('有log檔')"
   ]
  },
  {
   "cell_type": "code",
   "execution_count": 16,
   "metadata": {},
   "outputs": [
    {
     "name": "stdout",
     "output_type": "stream",
     "text": [
      "/home/pi1/Documents/GitHub/2024_chihlee/2024_07_27/data\n",
      "沒有data的目錄,手動建立目錄\n",
      "沒有iot.log檔,建立新檔\n"
     ]
    }
   ],
   "source": [
    "import os.path\n",
    "import os\n",
    "\n",
    "current_path = os.path.abspath(__name__) #取得目前檔案路徑\n",
    "directory_name = os.path.dirname(current_path) #取得目前資料夾路徑\n",
    "data_path = os.path.join(directory_name, 'data') #目前資料夾路徑加上data目錄\n",
    "print(data_path)\n",
    "if not os.path.isdir(data_path):\n",
    "    print('沒有data的目錄,手動建立目錄')\n",
    "    os.mkdir(data_path)\n",
    "else:\n",
    "    print('檔案已經建立')\n",
    "\n",
    "log_path = os.path.join(data_path, 'iot.log')\n",
    "if not os.path.isfile(log_path):\n",
    "    print('沒有iot.log檔,建立新檔')\n",
    "    with open(log_path,mode='w', encoding='utf-8',newline='') as file:\n",
    "        file.write('時間,濕度,溫度\\n')    \n",
    "\n",
    "else:\n",
    "    print('有log檔')"
   ]
  },
  {
   "cell_type": "code",
   "execution_count": 18,
   "metadata": {},
   "outputs": [],
   "source": [
    "with open(log_path,mode='a', encoding='utf-8', newline='') as file:\n",
    "    file.write('2024-07-27 15:30:25, 70.5, 29.5\\n')"
   ]
  },
  {
   "cell_type": "code",
   "execution_count": 27,
   "metadata": {},
   "outputs": [
    {
     "data": {
      "text/plain": [
       "datetime.datetime"
      ]
     },
     "execution_count": 27,
     "metadata": {},
     "output_type": "execute_result"
    }
   ],
   "source": [
    "from datetime import datetime\n",
    "\n",
    "now = datetime.now()\n",
    "type(now)"
   ]
  },
  {
   "cell_type": "code",
   "execution_count": 26,
   "metadata": {},
   "outputs": [
    {
     "name": "stdout",
     "output_type": "stream",
     "text": [
      "2024\n",
      "7\n",
      "27\n",
      "15\n",
      "47\n",
      "4\n"
     ]
    }
   ],
   "source": [
    "from datetime import datetime\n",
    "\n",
    "now = datetime.now()\n",
    "print(now.year)\n",
    "print(now.month)\n",
    "print(now.day)\n",
    "print(now.hour)\n",
    "print(now.minute)\n",
    "print(now.second)"
   ]
  },
  {
   "cell_type": "code",
   "execution_count": null,
   "metadata": {},
   "outputs": [],
   "source": []
  }
 ],
 "metadata": {
  "kernelspec": {
   "display_name": "venv1",
   "language": "python",
   "name": "python3"
  },
  "language_info": {
   "codemirror_mode": {
    "name": "ipython",
    "version": 3
   },
   "file_extension": ".py",
   "mimetype": "text/x-python",
   "name": "python",
   "nbconvert_exporter": "python",
   "pygments_lexer": "ipython3",
   "version": "3.11.2"
  }
 },
 "nbformat": 4,
 "nbformat_minor": 2
}
